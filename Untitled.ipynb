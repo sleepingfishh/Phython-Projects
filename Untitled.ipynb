{
 "cells": [
  {
   "cell_type": "code",
   "execution_count": null,
   "id": "014059bf",
   "metadata": {},
   "outputs": [],
   "source": [
    "def simple_calculator():\n",
    "\n",
    "    try:\n",
    "        user_input1 = int(input(\"Enter the 1st number:\"))\n",
    "    except ValueError:\n",
    "        print(\"Please enter a valid number\")\n",
    "        \n",
    "    try:\n",
    "        user_input2 = int(input(\"Enter the 2nd number:\"))\n",
    "    except ValueError:\n",
    "        print(\"Please enter a valid number\")\n",
    "        \n",
    "    try:\n",
    "        user_input3 = input(\"Please choose a mathematical operation: addition, substraction, multiplication, division.\")\n",
    "        if user_input3 == \"addition\":\n",
    "            result = user_input1 + user_input2\n",
    "        \n",
    "        elif user_input3 == \"substraction\":\n",
    "            result = user_input1 - user_input2\n",
    "            \n",
    "        elif user_input3 == \"multiplication\":\n",
    "            result = user_input1 * user_input2\n",
    "            \n",
    "        elif user_input3 == \"division\":\n",
    "            try:\n",
    "                result = user_input1 / user_input2\n",
    "            except ZeroDivisionError:\n",
    "                print(\"Division by zero is not allowed\")\n",
    "        return result\n",
    "    except:\n",
    "        print(\"Please enter a valid mathematical operation\")"
   ]
  },
  {
   "cell_type": "code",
   "execution_count": 1,
   "id": "ab83683e",
   "metadata": {},
   "outputs": [
    {
     "ename": "NameError",
     "evalue": "name 'simple_calculator' is not defined",
     "output_type": "error",
     "traceback": [
      "\u001b[1;31m---------------------------------------------------------------------------\u001b[0m",
      "\u001b[1;31mNameError\u001b[0m                                 Traceback (most recent call last)",
      "Cell \u001b[1;32mIn[1], line 1\u001b[0m\n\u001b[1;32m----> 1\u001b[0m \u001b[38;5;28mprint\u001b[39m(simple_calculator())\n",
      "\u001b[1;31mNameError\u001b[0m: name 'simple_calculator' is not defined"
     ]
    }
   ],
   "source": [
    "print(simple_calculator())"
   ]
  }
 ],
 "metadata": {
  "kernelspec": {
   "display_name": "Python 3 (ipykernel)",
   "language": "python",
   "name": "python3"
  },
  "language_info": {
   "codemirror_mode": {
    "name": "ipython",
    "version": 3
   },
   "file_extension": ".py",
   "mimetype": "text/x-python",
   "name": "python",
   "nbconvert_exporter": "python",
   "pygments_lexer": "ipython3",
   "version": "3.11.5"
  }
 },
 "nbformat": 4,
 "nbformat_minor": 5
}
