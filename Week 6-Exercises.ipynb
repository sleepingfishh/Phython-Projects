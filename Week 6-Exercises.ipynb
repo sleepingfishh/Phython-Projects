{
 "cells": [
  {
   "cell_type": "markdown",
   "id": "9cb31a2c",
   "metadata": {},
   "source": [
    "# Positional Arguments"
   ]
  },
  {
   "cell_type": "code",
   "execution_count": 8,
   "id": "576ac698",
   "metadata": {},
   "outputs": [
    {
     "name": "stdout",
     "output_type": "stream",
     "text": [
      "Alice is enrolled in Mathematics class.\n"
     ]
    }
   ],
   "source": [
    "def student_information(class_name, student_name):\n",
    "    #Display information about a student and their class.\n",
    "    print(student_name + \" is enrolled in \" + class_name + \" class.\")\n",
    "    \n",
    "#Positional arguments:\n",
    "student_information('Mathematics', 'Alice')"
   ]
  },
  {
   "cell_type": "markdown",
   "id": "92dffb86",
   "metadata": {},
   "source": [
    "# Keyword Arguments"
   ]
  },
  {
   "cell_type": "code",
   "execution_count": 9,
   "id": "393e8e73",
   "metadata": {},
   "outputs": [
    {
     "name": "stdout",
     "output_type": "stream",
     "text": [
      "Mathematics is enrolled in Alice class.\n"
     ]
    }
   ],
   "source": [
    "def student_information(class_name, student_name):\n",
    "    #Display infromation about a student and their class.\n",
    "    print(student_name + \" is enrolled in \" + class_name + \" class.\")\n",
    "    \n",
    "#Keyword arguments\n",
    "student_information(class_name = 'Mathematics', student_name = 'Alice')"
   ]
  },
  {
   "cell_type": "markdown",
   "id": "033dfe30",
   "metadata": {},
   "source": [
    "# Default Arguments"
   ]
  },
  {
   "cell_type": "code",
   "execution_count": 2,
   "id": "1ec36de4",
   "metadata": {},
   "outputs": [
    {
     "name": "stdout",
     "output_type": "stream",
     "text": [
      "Student Name: Lina\n",
      "Enrolled Course: Introduction to Python\n",
      "Student Name: Sara\n",
      "Enrolled Course: Data Structures\n"
     ]
    }
   ],
   "source": [
    "def enroll_student(student_name, course = 'Introduction to Python'):\n",
    "    #Enroll a student in a course with a default option.\n",
    "    print(\"Student Name: \" + student_name)\n",
    "    print(\"Enrolled Course: \" + course)\n",
    "#Using the default argument for course:\n",
    "\n",
    "enroll_student(student_name = 'Lina')\n",
    "\n",
    "#Overriding the default argument for course:\n",
    "enroll_student(student_name = 'Sara', course = 'Data Structures')"
   ]
  },
  {
   "cell_type": "markdown",
   "id": "c03dfd27",
   "metadata": {},
   "source": [
    "# Variable-length Arguments: *args"
   ]
  },
  {
   "cell_type": "code",
   "execution_count": 4,
   "id": "35d4694a",
   "metadata": {},
   "outputs": [
    {
     "name": "stdout",
     "output_type": "stream",
     "text": [
      "Student: Emily\n",
      "Enrolled in: \n",
      "- Biology 101\n",
      "- Chemistry 101\n",
      "- Physics 101\n"
     ]
    }
   ],
   "source": [
    "def enroll_in_courses(student_name, *courses):\n",
    "    #Enroll a student in multiple courses.\n",
    "    print(\"Student: \" + student_name)\n",
    "    print(\"Enrolled in: \")\n",
    "    for courses in courses:\n",
    "        print(\"- \" + courses)\n",
    "        \n",
    "#Example of enrolling a student in three different courses:\n",
    "enroll_in_courses('Emily','Biology 101', 'Chemistry 101', \"Physics 101\")"
   ]
  },
  {
   "cell_type": "markdown",
   "id": "995b6bda",
   "metadata": {},
   "source": [
    "# Variable-length Arguments: *kwargs"
   ]
  },
  {
   "cell_type": "code",
   "execution_count": 10,
   "id": "63de3775",
   "metadata": {},
   "outputs": [
    {
     "name": "stdout",
     "output_type": "stream",
     "text": [
      "Enrolling Smith with the following details:\n",
      "- Course: Algebra II\n",
      "- Semester: One\n",
      "- Payment Method: Credit Card\n"
     ]
    }
   ],
   "source": [
    "def enroll_student(student_name, **details):\n",
    "    #Enroll a student with additional details.\n",
    "    print(\"Enrolling \" + student_name + \"with the following details:\")\n",
    "    for detail, value in details.items():\n",
    "        print(\"- \" + detail.replace('_',' ').title() + \": \" + str(value))\n",
    "#Example of enrolling a student with additional details\n",
    "enroll_student('Smith ', course = 'Algebra II', semester = 'One', payment_method = 'Credit Card')"
   ]
  },
  {
   "cell_type": "markdown",
   "id": "a8c89ae3",
   "metadata": {},
   "source": [
    "# Exercise: Library Book Management"
   ]
  },
  {
   "cell_type": "code",
   "execution_count": 34,
   "id": "98e8f991",
   "metadata": {},
   "outputs": [
    {
     "name": "stdout",
     "output_type": "stream",
     "text": [
      "Checkout Processed by: Sarah Connor\n",
      "Books checked out: \n",
      "- 1984\n",
      "- Brave New World\n",
      "Checkout Duration: 3 weeks\n",
      "Additonal Checkout Details: \n",
      "- Late Fee: $0.25\n",
      "- Renewals Allowed: 2\n",
      "Special Conditions for Checkout: \n",
      "- Handle with Care\n"
     ]
    }
   ],
   "source": [
    "def checkout_books(librarian_name, *book_titles, checkout_duration = '2 weeks', special_conditions, **details):\n",
    "    #Manage book checkouts at a library.\n",
    "    print(\"Checkout Processed by: \" + librarian_name)\n",
    "    \n",
    "    #Display checked-out books\n",
    "    print(\"Books checked out: \")\n",
    "    for title in book_titles:\n",
    "        print(\"- \" +  title)\n",
    "        \n",
    "    #Display checkout duration\n",
    "    print(\"Checkout Duration: \" + checkout_duration)\n",
    "    \n",
    "    #Display additional information using **kwargws\n",
    "    print(\"Additonal Checkout Details: \")\n",
    "    for detail, value in details.items():\n",
    "        print(\"- \" + detail.replace('_', ' ').title() + \": \" + str(value))\n",
    "    \n",
    "    #Display special conditions\n",
    "    print(\"Special Conditions for Checkout: \")\n",
    "    print(\"- \" + special_conditions)\n",
    "        \n",
    "#Example of check out a librarian with two diffrent books:\n",
    "checkout_books('Sarah Connor', '1984', 'Brave New World', checkout_duration = '3 weeks', late_fee = \"$0.25\", renewals_allowed = '2', special_conditions = 'Handle with Care')"
   ]
  }
 ],
 "metadata": {
  "kernelspec": {
   "display_name": "Python 3 (ipykernel)",
   "language": "python",
   "name": "python3"
  },
  "language_info": {
   "codemirror_mode": {
    "name": "ipython",
    "version": 3
   },
   "file_extension": ".py",
   "mimetype": "text/x-python",
   "name": "python",
   "nbconvert_exporter": "python",
   "pygments_lexer": "ipython3",
   "version": "3.11.5"
  }
 },
 "nbformat": 4,
 "nbformat_minor": 5
}
