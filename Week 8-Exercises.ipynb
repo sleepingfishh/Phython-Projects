{
 "cells": [
  {
   "cell_type": "markdown",
   "id": "e01c5ad0",
   "metadata": {},
   "source": [
    "# TXT"
   ]
  },
  {
   "cell_type": "code",
   "execution_count": 6,
   "id": "4ef994f3",
   "metadata": {},
   "outputs": [
    {
     "name": "stdout",
     "output_type": "stream",
     "text": [
      "Testing 123\n",
      "\n"
     ]
    }
   ],
   "source": [
    "with open('example.txt','r') as file:\n",
    "    content = file.read()\n",
    "    print(content)"
   ]
  },
  {
   "cell_type": "code",
   "execution_count": 25,
   "id": "1d9e9cc5",
   "metadata": {},
   "outputs": [],
   "source": [
    "with open('output.txt','w')as file:\n",
    "    file.write('Hello,Python!')"
   ]
  },
  {
   "cell_type": "markdown",
   "id": "c0b68937",
   "metadata": {},
   "source": [
    "# CSV"
   ]
  },
  {
   "cell_type": "code",
   "execution_count": 8,
   "id": "a9e349f5",
   "metadata": {},
   "outputs": [
    {
     "name": "stdout",
     "output_type": "stream",
     "text": [
      "['Name', 'Age', 'Grade']\n",
      "['Alice', '21', 'A']\n",
      "['Bob', '22', 'F']\n",
      "['Charlie', '18', 'B']\n",
      "['David', '21', 'A']\n",
      "['Eve', '20', 'A']\n",
      "['Fiona', '18', 'C']\n",
      "['George', '19', 'A']\n",
      "['Hannah', '20', 'C']\n",
      "['Isla', '22', 'A']\n",
      "['Jack', '21', 'B']\n",
      "['Alice', '20', 'C']\n",
      "['Bob', '20', 'C']\n",
      "['Charlie', '18', 'C']\n",
      "['David', '20', 'A']\n",
      "['Eve', '21', 'B']\n",
      "['Fiona', '19', 'C']\n",
      "['George', '18', 'F']\n",
      "['Hannah', '19', 'B']\n",
      "['Isla', '19', 'B']\n",
      "['Jack', '18', 'F']\n",
      "['Alice', '18', 'F']\n",
      "['Bob', '18', 'F']\n",
      "['Charlie', '18', 'C']\n",
      "['David', '18', 'F']\n",
      "['Eve', '20', 'B']\n",
      "['Fiona', '19', 'B']\n",
      "['George', '21', 'D']\n",
      "['Hannah', '19', 'B']\n",
      "['Isla', '19', 'B']\n",
      "['Jack', '18', 'F']\n",
      "['Alice', '19', 'B']\n",
      "['Bob', '20', 'B']\n",
      "['Charlie', '22', 'D']\n",
      "['David', '20', 'C']\n",
      "['Eve', '19', 'A']\n",
      "['Fiona', '20', 'F']\n",
      "['George', '21', 'F']\n",
      "['Hannah', '22', 'F']\n",
      "['Isla', '21', 'F']\n",
      "['Jack', '19', 'F']\n",
      "['Alice', '20', 'C']\n",
      "['Bob', '22', 'F']\n",
      "['Charlie', '21', 'C']\n",
      "['David', '21', 'C']\n",
      "['Eve', '22', 'A']\n",
      "['Fiona', '20', 'B']\n",
      "['George', '20', 'D']\n",
      "['Hannah', '21', 'F']\n",
      "['Isla', '22', 'B']\n",
      "['Jack', '21', 'B']\n",
      "['Alice', '22', 'B']\n",
      "['Bob', '20', 'C']\n",
      "['Charlie', '21', 'A']\n",
      "['David', '22', 'F']\n",
      "['Eve', '19', 'A']\n",
      "['Fiona', '19', 'F']\n",
      "['George', '21', 'D']\n",
      "['Hannah', '20', 'B']\n",
      "['Isla', '18', 'A']\n",
      "['Jack', '18', 'D']\n",
      "['Alice', '18', 'C']\n",
      "['Bob', '20', 'C']\n",
      "['Charlie', '19', 'C']\n",
      "['David', '20', 'F']\n",
      "['Eve', '18', 'D']\n",
      "['Fiona', '22', 'A']\n",
      "['George', '18', 'D']\n",
      "['Hannah', '18', 'C']\n",
      "['Isla', '20', 'B']\n",
      "['Jack', '20', 'F']\n",
      "['Alice', '22', 'A']\n",
      "['Bob', '20', 'F']\n",
      "['Charlie', '22', 'C']\n",
      "['David', '18', 'A']\n",
      "['Eve', '20', 'F']\n",
      "['Fiona', '19', 'A']\n",
      "['George', '18', 'F']\n",
      "['Hannah', '19', 'B']\n",
      "['Isla', '18', 'D']\n",
      "['Jack', '22', 'B']\n",
      "['Alice', '19', 'A']\n",
      "['Bob', '19', 'D']\n",
      "['Charlie', '19', 'A']\n",
      "['David', '20', 'F']\n",
      "['Eve', '19', 'B']\n",
      "['Fiona', '20', 'C']\n",
      "['George', '22', 'A']\n",
      "['Hannah', '19', 'D']\n",
      "['Isla', '19', 'C']\n",
      "['Jack', '21', 'C']\n",
      "['Alice', '18', 'A']\n",
      "['Bob', '19', 'B']\n",
      "['Charlie', '22', 'F']\n",
      "['David', '22', 'A']\n",
      "['Eve', '21', 'C']\n",
      "['Fiona', '19', 'F']\n",
      "['George', '18', 'C']\n",
      "['Hannah', '22', 'F']\n",
      "['Isla', '18', 'F']\n",
      "['Jack', '20', 'D']\n"
     ]
    }
   ],
   "source": [
    "import csv\n",
    "with open('data.csv','r')as file:\n",
    "    csv_reader = csv.reader(file)\n",
    "    for row in csv_reader:\n",
    "        print(row)"
   ]
  },
  {
   "cell_type": "code",
   "execution_count": 13,
   "id": "1d6baa18",
   "metadata": {},
   "outputs": [
    {
     "name": "stdout",
     "output_type": "stream",
     "text": [
      "A\n",
      "F\n",
      "B\n",
      "A\n",
      "A\n",
      "C\n",
      "A\n",
      "C\n",
      "A\n",
      "B\n",
      "C\n",
      "C\n",
      "C\n",
      "A\n",
      "B\n",
      "C\n",
      "F\n",
      "B\n",
      "B\n",
      "F\n",
      "F\n",
      "F\n",
      "C\n",
      "F\n",
      "B\n",
      "B\n",
      "D\n",
      "B\n",
      "B\n",
      "F\n",
      "B\n",
      "B\n",
      "D\n",
      "C\n",
      "A\n",
      "F\n",
      "F\n",
      "F\n",
      "F\n",
      "F\n",
      "C\n",
      "F\n",
      "C\n",
      "C\n",
      "A\n",
      "B\n",
      "D\n",
      "F\n",
      "B\n",
      "B\n",
      "B\n",
      "C\n",
      "A\n",
      "F\n",
      "A\n",
      "F\n",
      "D\n",
      "B\n",
      "A\n",
      "D\n",
      "C\n",
      "C\n",
      "C\n",
      "F\n",
      "D\n",
      "A\n",
      "D\n",
      "C\n",
      "B\n",
      "F\n",
      "A\n",
      "F\n",
      "C\n",
      "A\n",
      "F\n",
      "A\n",
      "F\n",
      "B\n",
      "D\n",
      "B\n",
      "A\n",
      "D\n",
      "A\n",
      "F\n",
      "B\n",
      "C\n",
      "A\n",
      "D\n",
      "C\n",
      "C\n",
      "A\n",
      "B\n",
      "F\n",
      "A\n",
      "C\n",
      "F\n",
      "C\n",
      "F\n",
      "F\n",
      "D\n"
     ]
    }
   ],
   "source": [
    "import csv\n",
    "with open('data.csv','r')as file:\n",
    "    csv_reader = csv.DictReader(file)\n",
    "    for row in csv_reader:\n",
    "        print(row['Grade'])"
   ]
  },
  {
   "cell_type": "code",
   "execution_count": 31,
   "id": "9fa75265",
   "metadata": {},
   "outputs": [],
   "source": [
    "import csv\n",
    "with open('output.csv','w',newline = '')as file:\n",
    "    writer = csv.writer(file)\n",
    "    writer.writerow(['Name','Age'])\n",
    "    writer.writerow(['Alice','30'])"
   ]
  },
  {
   "cell_type": "code",
   "execution_count": 63,
   "id": "f86ce5db",
   "metadata": {},
   "outputs": [
    {
     "name": "stdout",
     "output_type": "stream",
     "text": [
      "Filtered data saved to top_students.csv\n"
     ]
    }
   ],
   "source": [
    "import csv\n",
    "\n",
    "input_file = 'students.csv'\n",
    "output_file = 'top_students.csv'\n",
    "\n",
    "with open('students.csv','r')as file:\n",
    "    csv_reader = csv.DictReader(file)\n",
    "    \n",
    "    filtered_data = []\n",
    "    for row in csv_reader:\n",
    "        if row['Grade'] <= 'B':\n",
    "            filtered_data.append(row)\n",
    "    for row in filtered_data:\n",
    "        row['Status'] = 'Passed'\n",
    "\n",
    "header = ['Name','Age', 'Grade', 'Status']\n",
    "\n",
    "output_file = 'top_students.csv'\n",
    "        \n",
    "with open(output_file,'w',newline = '')as file:\n",
    "    writer = csv.DictWriter(file, fieldnames = header)\n",
    "    writer.writeheader()\n",
    "    writer.writerows(filtered_data)\n",
    "\n",
    "print(f\"Filtered data saved to {output_file}\")"
   ]
  },
  {
   "cell_type": "markdown",
   "id": "0ef76359",
   "metadata": {},
   "source": [
    "# JSON"
   ]
  },
  {
   "cell_type": "code",
   "execution_count": 24,
   "id": "0bb04c9c",
   "metadata": {},
   "outputs": [
    {
     "name": "stdout",
     "output_type": "stream",
     "text": [
      "[{'administrative_division': 'State of Malaysia', 'state': 'Johor', 'capital': 'Johor Bahru', 'royal_capital': 'Muar', 'population': 3794000, 'total_area': 19166, 'licence_plate_prefix': 'J', 'phone_area_code': '07, 06 (Muar & Tangkak)', 'abbreviation': 'JHR', 'ISO': 'MY-01', 'FIPS': 'MY01', 'HDI': 0.818, 'region': 'Peninsular Malaysia', 'head_of_state': 'Sultan', 'head_of_goverment': 'Menteri Besar'}, {'administrative_division': 'State of Malaysia', 'state': 'Kedah', 'capital': 'Alor Setar', 'royal_capital': 'Anak Bukit', 'population': 2194100, 'total_area': 9492, 'licence_plate_prefix': 'K', 'phone_area_code': '04', 'abbreviation': 'KDH', 'ISO': 'MY-02', 'FIPS': 'MY03', 'HDI': 0.802, 'region': 'Peninsular Malaysia', 'head_of_state': 'Sultan', 'head_of_goverment': 'Menteri Besar'}, {'administrative_division': 'State of Malaysia', 'state': 'Kelantan', 'capital': 'Kota Bharu', 'royal_capital': 'Kubang Kerian', 'population': 1928800, 'total_area': 15040, 'licence_plate_prefix': 'D', 'phone_area_code': '09', 'abbreviation': 'KTN', 'ISO': 'MY-03', 'FIPS': 'MY03', 'HDI': 0.772, 'region': 'Peninsular Malaysia', 'head_of_state': 'Sultan', 'head_of_goverment': 'Menteri Besar'}, {'administrative_division': 'State of Malaysia', 'state': 'Malacca', 'capital': 'Malacca City', 'royal_capital': '-', 'population': 937500, 'total_area': 1712, 'licence_plate_prefix': 'M', 'phone_area_code': '06', 'abbreviation': 'MLK', 'ISO': 'MY-04', 'FIPS': 'MY04', 'HDI': 0.828, 'region': 'Peninsular Malaysia', 'head_of_state': 'Yang di-Pertua Negeri (Governor)', 'head_of_goverment': 'Chief Minister'}, {'administrative_division': 'State of Malaysia', 'state': 'Negeri Sembilan', 'capital': 'Seremban', 'royal_capital': 'Seri Menanti', 'population': 1129100, 'total_area': 6658, 'licence_plate_prefix': 'N', 'phone_area_code': '06', 'abbreviation': 'NSN', 'ISO': 'MY-05', 'FIPS': 'MY05', 'HDI': 0.822, 'region': 'Peninsular Malaysia', 'head_of_state': 'Yang di-Pertua Negeri (Grand Ruler)', 'head_of_goverment': 'Menteri Besar'}, {'administrative_division': 'State of Malaysia', 'state': 'Pahang', 'capital': 'Kuantan', 'royal_capital': 'Pekan', 'population': 1684600, 'total_area': 35965, 'licence_plate_prefix': 'C', 'phone_area_code': '09, 03 (Genting Highlands), 05 (Cameron)', 'abbreviation': 'PHG', 'ISO': 'MY-06', 'FIPS': 'MY06', 'HDI': 0.797, 'region': 'Peninsular Malaysia', 'head_of_state': 'Sultan', 'head_of_goverment': 'Menteri Besar'}, {'administrative_division': 'State of Malaysia', 'state': 'Penang', 'capital': 'George Town', 'royal_capital': '-', 'population': 1774400, 'total_area': 1049, 'licence_plate_prefix': 'P', 'phone_area_code': '04', 'abbreviation': 'PNG', 'ISO': 'MY-07', 'FIPS': 'MY09', 'HDI': 0.838, 'region': 'Peninsular Malaysia', 'head_of_state': 'Yang di-Pertua Negeri (Governor)', 'head_of_goverment': 'Chief Minister'}, {'administrative_division': 'State of Malaysia', 'state': 'Perak', 'capital': 'Ipoh', 'royal_capital': 'Kuala Kangsar', 'population': 2508900, 'total_area': 21146, 'licence_plate_prefix': 'A', 'phone_area_code': '05', 'abbreviation': 'PRK', 'ISO': 'MY-08', 'FIPS': 'MY07', 'HDI': 0.809, 'region': 'Peninsular Malaysia', 'head_of_state': 'Sultan', 'head_of_goverment': 'Menteri Besar'}, {'administrative_division': 'State of Malaysia', 'state': 'Perlis', 'capital': 'Kangar', 'royal_capital': 'Arau', 'population': 255400, 'total_area': 819, 'licence_plate_prefix': 'R', 'phone_area_code': '04', 'abbreviation': 'PLS', 'ISO': 'MY-09', 'FIPS': 'MY08', 'HDI': 0.799, 'region': 'Peninsular Malaysia', 'head_of_state': 'Raja', 'head_of_goverment': 'Menteri Besar'}, {'administrative_division': 'State of Malaysia', 'state': 'Sabah', 'capital': 'Kota Kinabalu', 'royal_capital': '-', 'population': 3833000, 'total_area': 73621, 'licence_plate_prefix': 'S', 'phone_area_code': '087–089', 'abbreviation': 'SBH', 'ISO': 'MY-12', 'FIPS': 'MY16', 'HDI': 0.704, 'region': 'East Malaysia', 'head_of_state': 'Yang di-Pertua Negeri (Governor)', 'head_of_goverment': 'Chief Minister'}, {'administrative_division': 'State of Malaysia', 'state': 'Sarawak', 'capital': 'Kuching', 'royal_capital': '-', 'population': 2822200, 'total_area': 124450, 'licence_plate_prefix': 'Q', 'phone_area_code': '081–086', 'abbreviation': 'SWK', 'ISO': 'MY-13', 'FIPS': 'MY11', 'HDI': 0.739, 'region': 'East Malaysia', 'head_of_state': 'Yang di-Pertua Negeri (Governor)', 'head_of_goverment': 'Chief Minister'}, {'administrative_division': 'State of Malaysia', 'state': 'Selangor', 'capital': 'Shah Alam', 'royal_capital': 'Klang', 'population': 6555400, 'total_area': 7951, 'licence_plate_prefix': 'B', 'phone_area_code': '03', 'abbreviation': 'SGR', 'ISO': 'MY-10', 'FIPS': 'MY12', 'HDI': 0.855, 'region': 'Peninsular Malaysia', 'head_of_state': 'Sultan', 'head_of_goverment': 'Menteri Besar'}, {'administrative_division': 'State of Malaysia', 'state': 'Terengganu', 'capital': 'Kuala Terengganu', 'royal_capital': 'Kuala Terengganu', 'population': 1275100, 'total_area': 12958, 'licence_plate_prefix': 'T', 'phone_area_code': '09', 'abbreviation': 'TRG', 'ISO': 'MY-11', 'FIPS': 'MY13', 'HDI': 0.793, 'region': 'Peninsular Malaysia', 'head_of_state': 'Sultan', 'head_of_goverment': 'Menteri Besar'}, {'administrative_division': 'Federal Territory of Malaysia', 'state': 'Kuala Lumpur', 'capital': 'Kuala Lumpur', 'royal_capital': '', 'population': 1746600, 'total_area': 243, 'licence_plate_prefix': 'W / V', 'phone_area_code': '03', 'abbreviation': 'KUL', 'ISO': 'MY-14', 'FIPS': '', 'HDI': 0.86, 'region': 'Peninsular Malaysia', 'head_of_state': 'Yang di-Pertuan Agong', 'head_of_goverment': 'Mayor'}, {'administrative_division': 'Federal Territory of Malaysia', 'state': 'Labuan', 'capital': 'Victoria', 'royal_capital': '', 'population': 100100, 'total_area': 92, 'licence_plate_prefix': 'L', 'phone_area_code': '087', 'abbreviation': 'LBN', 'ISO': 'MY-15', 'FIPS': 'MY15', 'HDI': 0.778, 'region': 'East Malaysia', 'head_of_state': 'Yang di-Pertuan Agong', 'head_of_goverment': 'President of Labuan Corporation'}, {'administrative_division': 'Federal Territory of Malaysia', 'state': 'Putrajaya', 'capital': 'Putrajaya', 'royal_capital': '', 'population': 116100, 'total_area': 49, 'licence_plate_prefix': 'F', 'phone_area_code': '03', 'abbreviation': 'PJY', 'ISO': 'MY-16', 'FIPS': '', 'HDI': 0.877, 'region': 'Peninsular Malaysia', 'head_of_state': 'Yang di-Pertuan Agong', 'head_of_goverment': 'President of Putrajaya Corporation'}]\n"
     ]
    }
   ],
   "source": [
    "import json\n",
    "\n",
    "try:\n",
    "    with open('test.json', 'r', encoding='utf-8') as file:\n",
    "        data = json.load(file)\n",
    "        print(data)\n",
    "except Exception as e:\n",
    "    print(f\"An error occurred: {e}\")"
   ]
  },
  {
   "cell_type": "code",
   "execution_count": null,
   "id": "d94ec713",
   "metadata": {},
   "outputs": [],
   "source": []
  }
 ],
 "metadata": {
  "kernelspec": {
   "display_name": "Python 3 (ipykernel)",
   "language": "python",
   "name": "python3"
  },
  "language_info": {
   "codemirror_mode": {
    "name": "ipython",
    "version": 3
   },
   "file_extension": ".py",
   "mimetype": "text/x-python",
   "name": "python",
   "nbconvert_exporter": "python",
   "pygments_lexer": "ipython3",
   "version": "3.11.5"
  }
 },
 "nbformat": 4,
 "nbformat_minor": 5
}
