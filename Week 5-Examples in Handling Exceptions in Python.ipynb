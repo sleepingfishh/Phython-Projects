{
 "cells": [
  {
   "cell_type": "code",
   "execution_count": 3,
   "id": "0c7ba601",
   "metadata": {},
   "outputs": [
    {
     "name": "stdout",
     "output_type": "stream",
     "text": [
      "Enter a number:4\n"
     ]
    }
   ],
   "source": [
    "number = int(input(\"Enter a number:\"))"
   ]
  },
  {
   "cell_type": "code",
   "execution_count": 4,
   "id": "d839adec",
   "metadata": {},
   "outputs": [
    {
     "ename": "ValueError",
     "evalue": "invalid literal for int() with base 10: 'a'",
     "output_type": "error",
     "traceback": [
      "\u001b[1;31m---------------------------------------------------------------------------\u001b[0m",
      "\u001b[1;31mValueError\u001b[0m                                Traceback (most recent call last)",
      "Cell \u001b[1;32mIn[4], line 1\u001b[0m\n\u001b[1;32m----> 1\u001b[0m \u001b[38;5;28mint\u001b[39m(\u001b[38;5;124m'\u001b[39m\u001b[38;5;124ma\u001b[39m\u001b[38;5;124m'\u001b[39m)\n",
      "\u001b[1;31mValueError\u001b[0m: invalid literal for int() with base 10: 'a'"
     ]
    }
   ],
   "source": [
    "int('a')"
   ]
  },
  {
   "cell_type": "code",
   "execution_count": 7,
   "id": "07a8cb6f",
   "metadata": {},
   "outputs": [
    {
     "name": "stdout",
     "output_type": "stream",
     "text": [
      "Error\n"
     ]
    }
   ],
   "source": [
    "try:\n",
    "    #code that might raise an exception\n",
    "    x = \"2\" + 2\n",
    "except:\n",
    "    #code that runs if the exception occurs\n",
    "    print(\"Error\")"
   ]
  },
  {
   "cell_type": "code",
   "execution_count": 11,
   "id": "823dcb2d",
   "metadata": {},
   "outputs": [
    {
     "name": "stdout",
     "output_type": "stream",
     "text": [
      "Please enter a valid numberydtdg\n",
      "The input data is not a number\n"
     ]
    }
   ],
   "source": [
    "try:\n",
    "    number = int(input(\"Please enter a valid number\"))\n",
    "except:\n",
    "    print(\"The input data is not a number\")"
   ]
  },
  {
   "cell_type": "code",
   "execution_count": 14,
   "id": "b6b46961",
   "metadata": {},
   "outputs": [
    {
     "name": "stdout",
     "output_type": "stream",
     "text": [
      "The value is not exist\n"
     ]
    }
   ],
   "source": [
    "my_list = [1, 2, 3]\n",
    "try:\n",
    "    my_list[10]\n",
    "    print(\"The value is exist in the list\")\n",
    "except:\n",
    "        print (\"The value is not exist\")"
   ]
  },
  {
   "cell_type": "code",
   "execution_count": 17,
   "id": "6b41d73b",
   "metadata": {},
   "outputs": [
    {
     "name": "stdout",
     "output_type": "stream",
     "text": [
      "Enter a number:6\n",
      "You entered a number!\n",
      "This is exscuted no matter what!\n"
     ]
    }
   ],
   "source": [
    "try:\n",
    "    number = int(input(\"Enter a number:\"))\n",
    "except ValueError:\n",
    "    print(\"This is not a number!\")\n",
    "else:\n",
    "    print (\"You entered a number!\")\n",
    "finally:\n",
    "    print(\"This is exsecuted no matter what!\") "
   ]
  },
  {
   "cell_type": "code",
   "execution_count": 20,
   "id": "aefe43e8",
   "metadata": {},
   "outputs": [
    {
     "name": "stdout",
     "output_type": "stream",
     "text": [
      "Enter a number:66\n",
      "0.015151515151515152\n"
     ]
    }
   ],
   "source": [
    "try:\n",
    "    user_input = input(\"Enter a number:\")\n",
    "    result = 1/int(user_input)\n",
    "    print(result)\n",
    "except ValueError:\n",
    "    print(\"Please enter a valid range.\")\n",
    "except ZeroDivisionError:\n",
    "    print(\"Division by zero is not allowed.\")"
   ]
  },
  {
   "cell_type": "code",
   "execution_count": 34,
   "id": "de6b3619",
   "metadata": {},
   "outputs": [],
   "source": [
    "def simple_calculator():\n",
    "\n",
    "    try:\n",
    "        user_input1 = int(input(\"Enter the 1st number:\"))\n",
    "    except ValueError:\n",
    "        print(\"Please enter a valid number\")\n",
    "        \n",
    "    try:\n",
    "        user_input2 = int(input(\"Enter the 2nd number:\"))\n",
    "    except ValueError:\n",
    "        print(\"Please enter a valid number\")\n",
    "        \n",
    "    try:\n",
    "        user_input3 = input(\"Please choose a mathematical operation: addition, substraction, multiplication, division.\")\n",
    "        if user_input3 == \"addition\":\n",
    "            result = user_input1 + user_input2\n",
    "        \n",
    "        elif user_input3 == \"substraction\":\n",
    "            result = user_input1 - user_input2\n",
    "            \n",
    "        elif user_input3 == \"multiplication\":\n",
    "            result = user_input1 * user_input2\n",
    "            \n",
    "        elif user_input3 == \"division\":\n",
    "            try:\n",
    "                result = user_input1 / user_input2\n",
    "            except ZeroDivisionError:\n",
    "                print(\"Division by zero is not allowed\")\n",
    "        return result\n",
    "    except:\n",
    "        print(\"Please enter a valid mathematical operation\")\n",
    "            "
   ]
  },
  {
   "cell_type": "code",
   "execution_count": 38,
   "id": "0bfd3fdc",
   "metadata": {},
   "outputs": [
    {
     "name": "stdout",
     "output_type": "stream",
     "text": [
      "Enter the 1st number:6\n",
      "Enter the 2nd number:7\n",
      "Please choose a mathematical operation: addition, substraction, multiplication, division.addition\n",
      "13\n"
     ]
    }
   ],
   "source": [
    "print(simple_calculator())"
   ]
  }
 ],
 "metadata": {
  "kernelspec": {
   "display_name": "Python 3 (ipykernel)",
   "language": "python",
   "name": "python3"
  },
  "language_info": {
   "codemirror_mode": {
    "name": "ipython",
    "version": 3
   },
   "file_extension": ".py",
   "mimetype": "text/x-python",
   "name": "python",
   "nbconvert_exporter": "python",
   "pygments_lexer": "ipython3",
   "version": "3.11.5"
  }
 },
 "nbformat": 4,
 "nbformat_minor": 5
}
