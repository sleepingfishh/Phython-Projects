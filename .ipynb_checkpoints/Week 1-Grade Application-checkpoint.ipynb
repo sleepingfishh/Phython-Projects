{
 "cells": [
  {
   "cell_type": "code",
   "execution_count": 27,
   "id": "bcba3447",
   "metadata": {},
   "outputs": [
    {
     "name": "stdout",
     "output_type": "stream",
     "text": [
      "3\n",
      "Pass\n"
     ]
    }
   ],
   "source": [
    "grade = int(input ())\n",
    "\n",
    "if grade == 1:\n",
    "    print (\"Congratulations!\")\n",
    "elif grade == 2:\n",
    "    print (\"Good\")\n",
    "elif grade == 3:\n",
    "    print (\"Pass\")\n",
    "elif grade == 4:\n",
    "    print (\"X is there\")\n",
    "else:\n",
    "    print (\"No such grade in the system\")"
   ]
  },
  {
   "cell_type": "code",
   "execution_count": 29,
   "id": "c36743f9",
   "metadata": {},
   "outputs": [],
   "source": [
    "if type (grade) == str:\n",
    "    print (\"this is a string\")"
   ]
  },
  {
   "cell_type": "code",
   "execution_count": 31,
   "id": "ed6fc061",
   "metadata": {},
   "outputs": [
    {
     "name": "stdout",
     "output_type": "stream",
     "text": [
      "3\n"
     ]
    }
   ],
   "source": [
    "if grade == 10:\n",
    "    print (grade + 10)"
   ]
  },
  {
   "cell_type": "code",
   "execution_count": null,
   "id": "bbfa9899",
   "metadata": {},
   "outputs": [],
   "source": []
  }
 ],
 "metadata": {
  "kernelspec": {
   "display_name": "Python 3 (ipykernel)",
   "language": "python",
   "name": "python3"
  },
  "language_info": {
   "codemirror_mode": {
    "name": "ipython",
    "version": 3
   },
   "file_extension": ".py",
   "mimetype": "text/x-python",
   "name": "python",
   "nbconvert_exporter": "python",
   "pygments_lexer": "ipython3",
   "version": "3.11.5"
  }
 },
 "nbformat": 4,
 "nbformat_minor": 5
}
